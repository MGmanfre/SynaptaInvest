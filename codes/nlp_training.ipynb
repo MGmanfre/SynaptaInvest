{
 "cells": [
  {
   "cell_type": "markdown",
   "metadata": {},
   "source": [
    "Library"
   ]
  },
  {
   "cell_type": "code",
   "execution_count": 2,
   "metadata": {},
   "outputs": [
    {
     "name": "stdout",
     "output_type": "stream",
     "text": [
      "Requirement already satisfied: transformers in /workspaces/SynaptaInvest/.venv/lib/python3.12/site-packages (4.44.2)\n",
      "Requirement already satisfied: torch in /workspaces/SynaptaInvest/.venv/lib/python3.12/site-packages (2.4.1)\n",
      "Collecting scikit-learn\n",
      "  Downloading scikit_learn-1.5.2-cp312-cp312-manylinux_2_17_x86_64.manylinux2014_x86_64.whl.metadata (13 kB)\n",
      "Requirement already satisfied: filelock in /workspaces/SynaptaInvest/.venv/lib/python3.12/site-packages (from transformers) (3.16.0)\n",
      "Requirement already satisfied: huggingface-hub<1.0,>=0.23.2 in /workspaces/SynaptaInvest/.venv/lib/python3.12/site-packages (from transformers) (0.24.6)\n",
      "Requirement already satisfied: numpy>=1.17 in /workspaces/SynaptaInvest/.venv/lib/python3.12/site-packages (from transformers) (2.1.1)\n",
      "Requirement already satisfied: packaging>=20.0 in /workspaces/SynaptaInvest/.venv/lib/python3.12/site-packages (from transformers) (24.1)\n",
      "Requirement already satisfied: pyyaml>=5.1 in /workspaces/SynaptaInvest/.venv/lib/python3.12/site-packages (from transformers) (6.0.2)\n",
      "Requirement already satisfied: regex!=2019.12.17 in /workspaces/SynaptaInvest/.venv/lib/python3.12/site-packages (from transformers) (2024.7.24)\n",
      "Requirement already satisfied: requests in /workspaces/SynaptaInvest/.venv/lib/python3.12/site-packages (from transformers) (2.32.3)\n",
      "Requirement already satisfied: safetensors>=0.4.1 in /workspaces/SynaptaInvest/.venv/lib/python3.12/site-packages (from transformers) (0.4.5)\n",
      "Requirement already satisfied: tokenizers<0.20,>=0.19 in /workspaces/SynaptaInvest/.venv/lib/python3.12/site-packages (from transformers) (0.19.1)\n",
      "Requirement already satisfied: tqdm>=4.27 in /workspaces/SynaptaInvest/.venv/lib/python3.12/site-packages (from transformers) (4.66.5)\n",
      "Requirement already satisfied: typing-extensions>=4.8.0 in /workspaces/SynaptaInvest/.venv/lib/python3.12/site-packages (from torch) (4.12.2)\n",
      "Requirement already satisfied: sympy in /workspaces/SynaptaInvest/.venv/lib/python3.12/site-packages (from torch) (1.13.2)\n",
      "Requirement already satisfied: networkx in /workspaces/SynaptaInvest/.venv/lib/python3.12/site-packages (from torch) (3.3)\n",
      "Requirement already satisfied: jinja2 in /workspaces/SynaptaInvest/.venv/lib/python3.12/site-packages (from torch) (3.1.4)\n",
      "Requirement already satisfied: fsspec in /workspaces/SynaptaInvest/.venv/lib/python3.12/site-packages (from torch) (2024.6.1)\n",
      "Requirement already satisfied: setuptools in /workspaces/SynaptaInvest/.venv/lib/python3.12/site-packages (from torch) (74.1.2)\n",
      "Requirement already satisfied: nvidia-cuda-nvrtc-cu12==12.1.105 in /workspaces/SynaptaInvest/.venv/lib/python3.12/site-packages (from torch) (12.1.105)\n",
      "Requirement already satisfied: nvidia-cuda-runtime-cu12==12.1.105 in /workspaces/SynaptaInvest/.venv/lib/python3.12/site-packages (from torch) (12.1.105)\n",
      "Requirement already satisfied: nvidia-cuda-cupti-cu12==12.1.105 in /workspaces/SynaptaInvest/.venv/lib/python3.12/site-packages (from torch) (12.1.105)\n",
      "Requirement already satisfied: nvidia-cudnn-cu12==9.1.0.70 in /workspaces/SynaptaInvest/.venv/lib/python3.12/site-packages (from torch) (9.1.0.70)\n",
      "Requirement already satisfied: nvidia-cublas-cu12==12.1.3.1 in /workspaces/SynaptaInvest/.venv/lib/python3.12/site-packages (from torch) (12.1.3.1)\n",
      "Requirement already satisfied: nvidia-cufft-cu12==11.0.2.54 in /workspaces/SynaptaInvest/.venv/lib/python3.12/site-packages (from torch) (11.0.2.54)\n",
      "Requirement already satisfied: nvidia-curand-cu12==10.3.2.106 in /workspaces/SynaptaInvest/.venv/lib/python3.12/site-packages (from torch) (10.3.2.106)\n",
      "Requirement already satisfied: nvidia-cusolver-cu12==11.4.5.107 in /workspaces/SynaptaInvest/.venv/lib/python3.12/site-packages (from torch) (11.4.5.107)\n",
      "Requirement already satisfied: nvidia-cusparse-cu12==12.1.0.106 in /workspaces/SynaptaInvest/.venv/lib/python3.12/site-packages (from torch) (12.1.0.106)\n",
      "Requirement already satisfied: nvidia-nccl-cu12==2.20.5 in /workspaces/SynaptaInvest/.venv/lib/python3.12/site-packages (from torch) (2.20.5)\n",
      "Requirement already satisfied: nvidia-nvtx-cu12==12.1.105 in /workspaces/SynaptaInvest/.venv/lib/python3.12/site-packages (from torch) (12.1.105)\n",
      "Requirement already satisfied: triton==3.0.0 in /workspaces/SynaptaInvest/.venv/lib/python3.12/site-packages (from torch) (3.0.0)\n",
      "Requirement already satisfied: nvidia-nvjitlink-cu12 in /workspaces/SynaptaInvest/.venv/lib/python3.12/site-packages (from nvidia-cusolver-cu12==11.4.5.107->torch) (12.6.68)\n",
      "Collecting scipy>=1.6.0 (from scikit-learn)\n",
      "  Downloading scipy-1.14.1-cp312-cp312-manylinux_2_17_x86_64.manylinux2014_x86_64.whl.metadata (60 kB)\n",
      "Collecting joblib>=1.2.0 (from scikit-learn)\n",
      "  Downloading joblib-1.4.2-py3-none-any.whl.metadata (5.4 kB)\n",
      "Collecting threadpoolctl>=3.1.0 (from scikit-learn)\n",
      "  Downloading threadpoolctl-3.5.0-py3-none-any.whl.metadata (13 kB)\n",
      "Requirement already satisfied: MarkupSafe>=2.0 in /workspaces/SynaptaInvest/.venv/lib/python3.12/site-packages (from jinja2->torch) (2.1.5)\n",
      "Requirement already satisfied: charset-normalizer<4,>=2 in /workspaces/SynaptaInvest/.venv/lib/python3.12/site-packages (from requests->transformers) (3.3.2)\n",
      "Requirement already satisfied: idna<4,>=2.5 in /workspaces/SynaptaInvest/.venv/lib/python3.12/site-packages (from requests->transformers) (3.8)\n",
      "Requirement already satisfied: urllib3<3,>=1.21.1 in /workspaces/SynaptaInvest/.venv/lib/python3.12/site-packages (from requests->transformers) (2.2.2)\n",
      "Requirement already satisfied: certifi>=2017.4.17 in /workspaces/SynaptaInvest/.venv/lib/python3.12/site-packages (from requests->transformers) (2024.8.30)\n",
      "Requirement already satisfied: mpmath<1.4,>=1.1.0 in /workspaces/SynaptaInvest/.venv/lib/python3.12/site-packages (from sympy->torch) (1.3.0)\n",
      "Downloading scikit_learn-1.5.2-cp312-cp312-manylinux_2_17_x86_64.manylinux2014_x86_64.whl (12.9 MB)\n",
      "\u001b[2K   \u001b[90m━━━━━━━━━━━━━━━━━━━━━━━━━━━━━━━━━━━━━━━━\u001b[0m \u001b[32m12.9/12.9 MB\u001b[0m \u001b[31m60.4 MB/s\u001b[0m eta \u001b[36m0:00:00\u001b[0m:00:01\u001b[0m\n",
      "\u001b[?25hDownloading joblib-1.4.2-py3-none-any.whl (301 kB)\n",
      "Downloading scipy-1.14.1-cp312-cp312-manylinux_2_17_x86_64.manylinux2014_x86_64.whl (40.8 MB)\n",
      "\u001b[2K   \u001b[90m━━━━━━━━━━━━━━━━━━━━━━━━━━━━━━━━━━━━━━━━\u001b[0m \u001b[32m40.8/40.8 MB\u001b[0m \u001b[31m62.6 MB/s\u001b[0m eta \u001b[36m0:00:00\u001b[0m:00:01\u001b[0m00:01\u001b[0m\n",
      "\u001b[?25hDownloading threadpoolctl-3.5.0-py3-none-any.whl (18 kB)\n",
      "Installing collected packages: threadpoolctl, scipy, joblib, scikit-learn\n",
      "Successfully installed joblib-1.4.2 scikit-learn-1.5.2 scipy-1.14.1 threadpoolctl-3.5.0\n"
     ]
    }
   ],
   "source": [
    "!pip install transformers torch scikit-learn\n"
   ]
  },
  {
   "cell_type": "markdown",
   "metadata": {},
   "source": [
    "Code"
   ]
  },
  {
   "cell_type": "code",
   "execution_count": 5,
   "metadata": {},
   "outputs": [
    {
     "name": "stderr",
     "output_type": "stream",
     "text": [
      "/workspaces/SynaptaInvest/.venv/lib/python3.12/site-packages/transformers/tokenization_utils_base.py:1601: FutureWarning: `clean_up_tokenization_spaces` was not set. It will be set to `True` by default. This behavior will be depracted in transformers v4.45, and will be then set to `False` by default. For more details check this issue: https://github.com/huggingface/transformers/issues/31884\n",
      "  warnings.warn(\n"
     ]
    },
    {
     "name": "stdout",
     "output_type": "stream",
     "text": [
      "Notícia: The stock market experienced a huge drop today due to unforeseen events.\n",
      "Positivo: 0%\n",
      "Neutro: 0%\n",
      "Negativo: 97.36%\n",
      "\n",
      "Notícia: The company's growth this quarter has exceeded expectations, leading to positive outlooks.\n",
      "Positivo: 95.75%\n",
      "Neutro: 0%\n",
      "Negativo: 0%\n",
      "\n",
      "Notícia: The product launch was average, with neutral feedback from most users.\n",
      "Positivo: 0%\n",
      "Neutro: 0%\n",
      "Negativo: 70.38%\n",
      "\n",
      "Notícia: Sales declined rapidly over the last month, which affected the company's reputation.\n",
      "Positivo: 0%\n",
      "Neutro: 0%\n",
      "Negativo: 97.25%\n",
      "\n",
      "Acurácia do modelo: 75.00%\n"
     ]
    }
   ],
   "source": [
    "from transformers import BertTokenizer, BertForSequenceClassification\n",
    "from transformers import pipeline\n",
    "from sklearn.metrics import accuracy_score\n",
    "\n",
    "# Carregar o tokenizer e o modelo ProsusAI/finbert\n",
    "tokenizer = BertTokenizer.from_pretrained(\"ProsusAI/finbert\")\n",
    "model = BertForSequenceClassification.from_pretrained(\"ProsusAI/finbert\")\n",
    "\n",
    "# Criar o pipeline de análise de sentimento\n",
    "finbert_sentiment = pipeline(\"sentiment-analysis\", model=model, tokenizer=tokenizer)\n",
    "\n",
    "# Exemplo de dados rotulados (conjunto de notícias e suas classificações reais)\n",
    "noticias = [\n",
    "    \"The stock market experienced a huge drop today due to unforeseen events.\",\n",
    "    \"The company's growth this quarter has exceeded expectations, leading to positive outlooks.\",\n",
    "    \"The product launch was average, with neutral feedback from most users.\",\n",
    "    \"Sales declined rapidly over the last month, which affected the company's reputation.\"\n",
    "]\n",
    "\n",
    "# Classificações reais correspondentes ('positive', 'neutral', 'negative')\n",
    "labels_reais = [\"negative\", \"positive\", \"neutral\", \"negative\"]\n",
    "\n",
    "# Previsão do modelo para cada notícia e exibição das porcentagens de sentimento\n",
    "labels_preditas = []\n",
    "for noticia in noticias:\n",
    "    # Realizar a análise de sentimento\n",
    "    resultados = finbert_sentiment(noticia)\n",
    "\n",
    "    # Inicializar dicionário para armazenar os resultados\n",
    "    sentimentos = {\"positive\": 0, \"neutral\": 0, \"negative\": 0}\n",
    "\n",
    "    # Atualizar o dicionário com as porcentagens dos resultados\n",
    "    for resultado in resultados:\n",
    "        sentimentos[resultado['label'].lower()] = round(resultado['score'] * 100, 2)\n",
    "\n",
    "    # Exibir as porcentagens de sentimento\n",
    "    print(f\"Notícia: {noticia}\")\n",
    "    print(f\"Positivo: {sentimentos['positive']}%\")\n",
    "    print(f\"Neutro: {sentimentos['neutral']}%\")\n",
    "    print(f\"Negativo: {sentimentos['negative']}%\\n\")\n",
    "\n",
    "    # Capturar o rótulo com maior probabilidade\n",
    "    label_mais_alta = max(resultados, key=lambda x: x['score'])['label'].lower()\n",
    "    labels_preditas.append(label_mais_alta)\n",
    "\n",
    "# Calcular a acurácia\n",
    "acuracia = accuracy_score(labels_reais, labels_preditas)\n",
    "\n",
    "# Exibir a acurácia\n",
    "print(f\"Acurácia do modelo: {acuracia * 100:.2f}%\")"
   ]
  },
  {
   "cell_type": "code",
   "execution_count": 1,
   "metadata": {},
   "outputs": [
    {
     "name": "stderr",
     "output_type": "stream",
     "text": [
      "/workspaces/SynaptaInvest/.venv/lib/python3.12/site-packages/tqdm/auto.py:21: TqdmWarning: IProgress not found. Please update jupyter and ipywidgets. See https://ipywidgets.readthedocs.io/en/stable/user_install.html\n",
      "  from .autonotebook import tqdm as notebook_tqdm\n",
      "/workspaces/SynaptaInvest/.venv/lib/python3.12/site-packages/transformers/tokenization_utils_base.py:1601: FutureWarning: `clean_up_tokenization_spaces` was not set. It will be set to `True` by default. This behavior will be depracted in transformers v4.45, and will be then set to `False` by default. For more details check this issue: https://github.com/huggingface/transformers/issues/31884\n",
      "  warnings.warn(\n"
     ]
    },
    {
     "name": "stdout",
     "output_type": "stream",
     "text": [
      "Análise de sentimento concluída e resultados salvos em 'resultados_noticias.csv'\n"
     ]
    }
   ],
   "source": [
    "import pandas as pd\n",
    "from transformers import BertTokenizer, BertForSequenceClassification, pipeline\n",
    "\n",
    "# Carregar o tokenizer e o modelo ProsusAI/finbert\n",
    "tokenizer = BertTokenizer.from_pretrained(\"ProsusAI/finbert\")\n",
    "model = BertForSequenceClassification.from_pretrained(\"ProsusAI/finbert\")\n",
    "\n",
    "# Criar o pipeline de análise de sentimento\n",
    "finbert_sentiment = pipeline(\"sentiment-analysis\", model=model, tokenizer=tokenizer)\n",
    "\n",
    "# Carregar o CSV com as notícias\n",
    "df = pd.read_csv('./database/news_texts.csv')  # Substitua 'noticias.csv' pelo caminho do seu arquivo CSV\n",
    "\n",
    "# Extrair as notícias de uma coluna específica (ex: coluna \"noticia\")\n",
    "noticias = df['news_text'].tolist()  # Certifique-se de que a coluna se chama 'noticia'\n",
    "\n",
    "# Lista para armazenar os resultados\n",
    "resultados_sentimentos = []\n",
    "\n",
    "# Loop para analisar cada notícia\n",
    "for noticia in noticias:\n",
    "    # Realizar a análise de sentimento\n",
    "    resultados = finbert_sentiment(noticia)\n",
    "\n",
    "    # Inicializar dicionário para armazenar os resultados\n",
    "    sentimentos = {\"positive\": 0, \"neutral\": 0, \"negative\": 0}\n",
    "\n",
    "    # Atualizar o dicionário com as porcentagens dos resultados\n",
    "    for resultado in resultados:\n",
    "        sentimentos[resultado['label'].lower()] = round(resultado['score'] * 100, 2)\n",
    "\n",
    "    # Capturar o sentimento com maior pontuação\n",
    "    label_mais_alta = max(resultados, key=lambda x: x['score'])['label'].lower()\n",
    "\n",
    "    # Armazenar o resultado na lista\n",
    "    resultados_sentimentos.append(label_mais_alta)\n",
    "\n",
    "# Criar um novo DataFrame com as notícias e os resultados da análise\n",
    "df_resultados = pd.DataFrame({\n",
    "    'noticia': noticias,\n",
    "    'resultado': resultados_sentimentos\n",
    "})\n",
    "\n",
    "# Salvar o DataFrame em um novo CSV\n",
    "df_resultados.to_csv('resultados_noticias.csv', index=False)\n",
    "\n",
    "print(\"Análise de sentimento concluída e resultados salvos em 'resultados_noticias.csv'\")"
   ]
  }
 ],
 "metadata": {
  "kernelspec": {
   "display_name": "venv",
   "language": "python",
   "name": "python3"
  },
  "language_info": {
   "codemirror_mode": {
    "name": "ipython",
    "version": 3
   },
   "file_extension": ".py",
   "mimetype": "text/x-python",
   "name": "python",
   "nbconvert_exporter": "python",
   "pygments_lexer": "ipython3",
   "version": "3.12.1"
  }
 },
 "nbformat": 4,
 "nbformat_minor": 2
}
