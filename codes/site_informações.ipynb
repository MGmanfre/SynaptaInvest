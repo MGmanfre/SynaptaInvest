{
  "cells": [
    {
      "cell_type": "markdown",
      "metadata": {
        "id": "s19P_OZZX1Rm"
      },
      "source": [
        "# pips"
      ]
    },
    {
      "cell_type": "code",
      "execution_count": 1,
      "metadata": {
        "colab": {
          "base_uri": "https://localhost:8080/"
        },
        "id": "OSkdnM_umIY0",
        "outputId": "f2fc3fb7-ac7c-4147-8deb-863e3a9d06d1"
      },
      "outputs": [
        {
          "name": "stdout",
          "output_type": "stream",
          "text": [
            "Requirement already satisfied: requests in /workspaces/SynaptaInvest/venv/lib/python3.10/site-packages (2.32.3)\n",
            "Requirement already satisfied: beautifulsoup4 in /workspaces/SynaptaInvest/venv/lib/python3.10/site-packages (4.12.3)\n",
            "Requirement already satisfied: certifi>=2017.4.17 in /workspaces/SynaptaInvest/venv/lib/python3.10/site-packages (from requests) (2024.7.4)\n",
            "Requirement already satisfied: charset-normalizer<4,>=2 in /workspaces/SynaptaInvest/venv/lib/python3.10/site-packages (from requests) (3.3.2)\n",
            "Requirement already satisfied: idna<4,>=2.5 in /workspaces/SynaptaInvest/venv/lib/python3.10/site-packages (from requests) (3.7)\n",
            "Requirement already satisfied: urllib3<3,>=1.21.1 in /workspaces/SynaptaInvest/venv/lib/python3.10/site-packages (from requests) (1.26.19)\n",
            "Requirement already satisfied: soupsieve>1.2 in /workspaces/SynaptaInvest/venv/lib/python3.10/site-packages (from beautifulsoup4) (2.5)\n",
            "\n",
            "\u001b[1m[\u001b[0m\u001b[34;49mnotice\u001b[0m\u001b[1;39;49m]\u001b[0m\u001b[39;49m A new release of pip is available: \u001b[0m\u001b[31;49m23.0.1\u001b[0m\u001b[39;49m -> \u001b[0m\u001b[32;49m24.2\u001b[0m\n",
            "\u001b[1m[\u001b[0m\u001b[34;49mnotice\u001b[0m\u001b[1;39;49m]\u001b[0m\u001b[39;49m To update, run: \u001b[0m\u001b[32;49mpip install --upgrade pip\u001b[0m\n"
          ]
        }
      ],
      "source": [
        "!pip install requests beautifulsoup4\n"
      ]
    },
    {
      "cell_type": "code",
      "execution_count": 2,
      "metadata": {
        "colab": {
          "base_uri": "https://localhost:8080/"
        },
        "id": "_xQmoMMg0sHy",
        "outputId": "d4f46b5b-9443-4113-c0a0-60afc34b67c6"
      },
      "outputs": [
        {
          "name": "stdout",
          "output_type": "stream",
          "text": [
            "\u001b[31mERROR: Could not find a version that satisfies the requirement LinkedinProfile (from versions: none)\u001b[0m\u001b[31m\n",
            "\u001b[0m\u001b[31mERROR: No matching distribution found for LinkedinProfile\u001b[0m\u001b[31m\n",
            "\u001b[0m\n",
            "\u001b[1m[\u001b[0m\u001b[34;49mnotice\u001b[0m\u001b[1;39;49m]\u001b[0m\u001b[39;49m A new release of pip is available: \u001b[0m\u001b[31;49m23.0.1\u001b[0m\u001b[39;49m -> \u001b[0m\u001b[32;49m24.2\u001b[0m\n",
            "\u001b[1m[\u001b[0m\u001b[34;49mnotice\u001b[0m\u001b[1;39;49m]\u001b[0m\u001b[39;49m To update, run: \u001b[0m\u001b[32;49mpip install --upgrade pip\u001b[0m\n"
          ]
        }
      ],
      "source": [
        "!pip install LinkedinProfile"
      ]
    },
    {
      "cell_type": "code",
      "execution_count": 3,
      "metadata": {
        "colab": {
          "base_uri": "https://localhost:8080/"
        },
        "id": "lk5iK22ipQ9P",
        "outputId": "7ac0134a-aa64-49d7-fe0a-1803306f6a2b"
      },
      "outputs": [
        {
          "name": "stdout",
          "output_type": "stream",
          "text": [
            "Requirement already satisfied: trafilatura in /workspaces/SynaptaInvest/venv/lib/python3.10/site-packages (1.12.0)\n",
            "Requirement already satisfied: justext>=3.0.1 in /workspaces/SynaptaInvest/venv/lib/python3.10/site-packages (from trafilatura) (3.0.1)\n",
            "Requirement already satisfied: urllib3<3,>=1.26 in /workspaces/SynaptaInvest/venv/lib/python3.10/site-packages (from trafilatura) (1.26.19)\n",
            "Requirement already satisfied: courlan>=1.2.0 in /workspaces/SynaptaInvest/venv/lib/python3.10/site-packages (from trafilatura) (1.3.0)\n",
            "Requirement already satisfied: lxml>=5.2.2 in /workspaces/SynaptaInvest/venv/lib/python3.10/site-packages (from trafilatura) (5.2.2)\n",
            "Requirement already satisfied: certifi in /workspaces/SynaptaInvest/venv/lib/python3.10/site-packages (from trafilatura) (2024.7.4)\n",
            "Requirement already satisfied: charset-normalizer>=3.2.0 in /workspaces/SynaptaInvest/venv/lib/python3.10/site-packages (from trafilatura) (3.3.2)\n",
            "Requirement already satisfied: htmldate>=1.8.1 in /workspaces/SynaptaInvest/venv/lib/python3.10/site-packages (from trafilatura) (1.8.1)\n",
            "Requirement already satisfied: tld>=0.13 in /workspaces/SynaptaInvest/venv/lib/python3.10/site-packages (from courlan>=1.2.0->trafilatura) (0.13)\n",
            "Requirement already satisfied: babel>=2.15.0 in /workspaces/SynaptaInvest/venv/lib/python3.10/site-packages (from courlan>=1.2.0->trafilatura) (2.16.0)\n",
            "Requirement already satisfied: python-dateutil>=2.8.2 in /workspaces/SynaptaInvest/venv/lib/python3.10/site-packages (from htmldate>=1.8.1->trafilatura) (2.9.0.post0)\n",
            "Requirement already satisfied: dateparser>=1.1.2 in /workspaces/SynaptaInvest/venv/lib/python3.10/site-packages (from htmldate>=1.8.1->trafilatura) (1.2.0)\n",
            "Requirement already satisfied: regex!=2019.02.19,!=2021.8.27 in /workspaces/SynaptaInvest/venv/lib/python3.10/site-packages (from dateparser>=1.1.2->htmldate>=1.8.1->trafilatura) (2024.7.24)\n",
            "Requirement already satisfied: tzlocal in /workspaces/SynaptaInvest/venv/lib/python3.10/site-packages (from dateparser>=1.1.2->htmldate>=1.8.1->trafilatura) (5.2)\n",
            "Requirement already satisfied: pytz in /workspaces/SynaptaInvest/venv/lib/python3.10/site-packages (from dateparser>=1.1.2->htmldate>=1.8.1->trafilatura) (2024.1)\n",
            "Requirement already satisfied: lxml-html-clean in /workspaces/SynaptaInvest/venv/lib/python3.10/site-packages (from lxml>=5.2.2->trafilatura) (0.2.0)\n",
            "Requirement already satisfied: six>=1.5 in /workspaces/SynaptaInvest/venv/lib/python3.10/site-packages (from python-dateutil>=2.8.2->htmldate>=1.8.1->trafilatura) (1.16.0)\n",
            "\n",
            "\u001b[1m[\u001b[0m\u001b[34;49mnotice\u001b[0m\u001b[1;39;49m]\u001b[0m\u001b[39;49m A new release of pip is available: \u001b[0m\u001b[31;49m23.0.1\u001b[0m\u001b[39;49m -> \u001b[0m\u001b[32;49m24.2\u001b[0m\n",
            "\u001b[1m[\u001b[0m\u001b[34;49mnotice\u001b[0m\u001b[1;39;49m]\u001b[0m\u001b[39;49m To update, run: \u001b[0m\u001b[32;49mpip install --upgrade pip\u001b[0m\n"
          ]
        }
      ],
      "source": [
        "!pip install trafilatura\n"
      ]
    },
    {
      "cell_type": "code",
      "execution_count": 4,
      "metadata": {
        "colab": {
          "base_uri": "https://localhost:8080/"
        },
        "id": "KpfMBIrEqQtH",
        "outputId": "3f86c579-d1b2-4d72-8e97-06d497fc2ecd"
      },
      "outputs": [
        {
          "name": "stdout",
          "output_type": "stream",
          "text": [
            "Requirement already satisfied: requests in /workspaces/SynaptaInvest/venv/lib/python3.10/site-packages (2.32.3)\n",
            "Requirement already satisfied: beautifulsoup4 in /workspaces/SynaptaInvest/venv/lib/python3.10/site-packages (4.12.3)\n",
            "Requirement already satisfied: idna<4,>=2.5 in /workspaces/SynaptaInvest/venv/lib/python3.10/site-packages (from requests) (3.7)\n",
            "Requirement already satisfied: urllib3<3,>=1.21.1 in /workspaces/SynaptaInvest/venv/lib/python3.10/site-packages (from requests) (1.26.19)\n",
            "Requirement already satisfied: certifi>=2017.4.17 in /workspaces/SynaptaInvest/venv/lib/python3.10/site-packages (from requests) (2024.7.4)\n",
            "Requirement already satisfied: charset-normalizer<4,>=2 in /workspaces/SynaptaInvest/venv/lib/python3.10/site-packages (from requests) (3.3.2)\n",
            "Requirement already satisfied: soupsieve>1.2 in /workspaces/SynaptaInvest/venv/lib/python3.10/site-packages (from beautifulsoup4) (2.5)\n",
            "\n",
            "\u001b[1m[\u001b[0m\u001b[34;49mnotice\u001b[0m\u001b[1;39;49m]\u001b[0m\u001b[39;49m A new release of pip is available: \u001b[0m\u001b[31;49m23.0.1\u001b[0m\u001b[39;49m -> \u001b[0m\u001b[32;49m24.2\u001b[0m\n",
            "\u001b[1m[\u001b[0m\u001b[34;49mnotice\u001b[0m\u001b[1;39;49m]\u001b[0m\u001b[39;49m To update, run: \u001b[0m\u001b[32;49mpip install --upgrade pip\u001b[0m\n"
          ]
        }
      ],
      "source": [
        "!pip install requests beautifulsoup4"
      ]
    },
    {
      "cell_type": "code",
      "execution_count": 5,
      "metadata": {},
      "outputs": [
        {
          "name": "stdout",
          "output_type": "stream",
          "text": [
            "Requirement already satisfied: pandas in /workspaces/SynaptaInvest/venv/lib/python3.10/site-packages (2.2.2)\n",
            "Requirement already satisfied: pytz>=2020.1 in /workspaces/SynaptaInvest/venv/lib/python3.10/site-packages (from pandas) (2024.1)\n",
            "Requirement already satisfied: python-dateutil>=2.8.2 in /workspaces/SynaptaInvest/venv/lib/python3.10/site-packages (from pandas) (2.9.0.post0)\n",
            "Requirement already satisfied: tzdata>=2022.7 in /workspaces/SynaptaInvest/venv/lib/python3.10/site-packages (from pandas) (2024.1)\n",
            "Requirement already satisfied: numpy>=1.22.4 in /workspaces/SynaptaInvest/venv/lib/python3.10/site-packages (from pandas) (2.0.0)\n",
            "Requirement already satisfied: six>=1.5 in /workspaces/SynaptaInvest/venv/lib/python3.10/site-packages (from python-dateutil>=2.8.2->pandas) (1.16.0)\n",
            "\n",
            "\u001b[1m[\u001b[0m\u001b[34;49mnotice\u001b[0m\u001b[1;39;49m]\u001b[0m\u001b[39;49m A new release of pip is available: \u001b[0m\u001b[31;49m23.0.1\u001b[0m\u001b[39;49m -> \u001b[0m\u001b[32;49m24.2\u001b[0m\n",
            "\u001b[1m[\u001b[0m\u001b[34;49mnotice\u001b[0m\u001b[1;39;49m]\u001b[0m\u001b[39;49m To update, run: \u001b[0m\u001b[32;49mpip install --upgrade pip\u001b[0m\n"
          ]
        }
      ],
      "source": [
        "!pip install pandas"
      ]
    },
    {
      "cell_type": "markdown",
      "metadata": {
        "id": "4tkT2k8lX5QX"
      },
      "source": [
        "# codigo"
      ]
    },
    {
      "cell_type": "code",
      "execution_count": 29,
      "metadata": {
        "colab": {
          "base_uri": "https://localhost:8080/"
        },
        "id": "sSI2jvntmQ7z",
        "outputId": "dfe51405-7122-4f0e-c48a-5f30e33c69b5"
      },
      "outputs": [
        {
          "name": "stdout",
          "output_type": "stream",
          "text": [
            "                                             news_text\n",
            "0    Shiba Inu Investors Now Hold This New Cryptocu...\n",
            "1    Cautious car buyers blamed for 10 per cent dro...\n",
            "2    NMFTA’s Cybersecurity Team Continues to Showca...\n",
            "3    Ethereum (ETH) Whales Grab New 1000x Memecoin ...\n",
            "4    A 'soft landing' is still on the table, econom...\n",
            "..                                                 ...\n",
            "167  Martin Lewis warns drivers who've received £3,...\n",
            "168  Heads up homeowners - Households set for cash ...\n",
            "169  Money blog: Wizz Air launches subscription wit...\n",
            "170  Martin Lewis' MSE online letter that has saved...\n",
            "171  Money blog: Inflation rises for first time sin...\n",
            "\n",
            "[172 rows x 1 columns]\n"
          ]
        }
      ],
      "source": [
        "import pandas as pd\n",
        "import trafilatura\n",
        "\n",
        "# Caminho para o arquivo CSV\n",
        "file_path = './database/finance_news.csv'\n",
        "\n",
        "# Carrega o arquivo CSV em um DataFrame\n",
        "df = pd.read_csv(file_path)\n",
        "\n",
        "def extrair_texto_principal(url):\n",
        "    try:\n",
        "        # Baixar e extrair o texto principal da URL\n",
        "        downloaded = trafilatura.fetch_url(url)\n",
        "        if downloaded:\n",
        "            texto_principal = trafilatura.extract(downloaded, output_format='txt')\n",
        "            if texto_principal:\n",
        "                return texto_principal\n",
        "            else:\n",
        "                return \"Não foi possível encontrar o conteúdo principal.\"\n",
        "        else:\n",
        "            return \"Erro ao baixar o conteúdo da página.\"\n",
        "    except Exception as e:\n",
        "        return f\"Erro ao extrair texto de {url}: {e}\"\n",
        "\n",
        "# Extrai a coluna 'links' e 'title' e converte para listas\n",
        "urls = df['link'].tolist()\n",
        "titles = df['title'].tolist()\n",
        "\n",
        "# Lista para armazenar os dados da nova tabela\n",
        "data = []\n",
        "\n",
        "# Extrai o texto principal e cria as entradas para a nova tabela\n",
        "for title, url in zip(titles, urls):\n",
        "    texto = f'{title}\\n{extrair_texto_principal(url)}'  # Extrai o texto principal da URL\n",
        "    data.append({'news_text': texto})\n",
        "\n",
        "# Cria um novo DataFrame com os dados processados\n",
        "df_final = pd.DataFrame(data, columns=['news_text'])\n",
        "\n",
        "# Exibe a tabela final\n",
        "print(df_final)\n",
        "\n",
        "# Salvar a tabela em um novo arquivo CSV, se necessário\n",
        "df_final.to_csv('./database/news_texts.csv', index=False)"
      ]
    }
  ],
  "metadata": {
    "colab": {
      "provenance": []
    },
    "kernelspec": {
      "display_name": "Python 3",
      "name": "python3"
    },
    "language_info": {
      "codemirror_mode": {
        "name": "ipython",
        "version": 3
      },
      "file_extension": ".py",
      "mimetype": "text/x-python",
      "name": "python",
      "nbconvert_exporter": "python",
      "pygments_lexer": "ipython3",
      "version": "3.10.13"
    }
  },
  "nbformat": 4,
  "nbformat_minor": 0
}
