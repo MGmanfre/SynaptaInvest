{
 "cells": [
  {
   "cell_type": "markdown",
   "metadata": {},
   "source": [
    "bibliotecas"
   ]
  },
  {
   "cell_type": "code",
   "execution_count": 1,
   "metadata": {},
   "outputs": [
    {
     "name": "stdout",
     "output_type": "stream",
     "text": [
      "\u001b[31mERROR: Could not open requirements file: [Errno 2] No such file or directory: 'requirements.txt'\u001b[0m\u001b[31m\n",
      "\u001b[0m"
     ]
    }
   ],
   "source": [
    "!pip install -r \"requirements.txt\""
   ]
  },
  {
   "cell_type": "markdown",
   "metadata": {},
   "source": [
    "codigo"
   ]
  },
  {
   "cell_type": "code",
   "execution_count": null,
   "metadata": {},
   "outputs": [],
   "source": [
    "import yt_dlp\n",
    "import speech_recognition as sr\n",
    "import os\n",
    "from pydub import AudioSegment\n",
    "import math\n",
    "\n",
    "def download_youtube_video(url, output_path='.', index=0):\n",
    "    ydl_opts = {\n",
    "        'format': 'bestaudio/best',\n",
    "        'outtmpl': f'{output_path}/audio_{index}.%(ext)s',\n",
    "        'postprocessors': [{\n",
    "            'key': 'FFmpegExtractAudio',\n",
    "            'preferredcodec': 'wav',\n",
    "            'preferredquality': '192',\n",
    "        }],\n",
    "    }\n",
    "\n",
    "    try:\n",
    "        with yt_dlp.YoutubeDL(ydl_opts) as ydl:\n",
    "            ydl.download([url])\n",
    "        print(f'Download completo para URL {index + 1}.')\n",
    "    except Exception as e:\n",
    "        print(f'Erro ao baixar o vídeo {index + 1}: {e}')\n",
    "\n",
    "def split_audio(audio_file, chunk_length_ms=60000, start_minute=2):\n",
    "    audio = AudioSegment.from_file(audio_file)\n",
    "    chunks = []\n",
    "\n",
    "    # Calcula o ponto de início em milissegundos\n",
    "    start_ms = start_minute * 60 * 1000\n",
    "\n",
    "    # Inicia a partir de start_ms\n",
    "    for i in range(start_ms, len(audio), chunk_length_ms):\n",
    "        chunk = audio[i:i + chunk_length_ms]\n",
    "        chunks.append(chunk)\n",
    "    return chunks\n",
    "\n",
    "def transcribe_audio_chunk(chunk, recognizer):\n",
    "    try:\n",
    "        with chunk.export(format=\"wav\") as temp_wav:\n",
    "            with sr.AudioFile(temp_wav) as source:\n",
    "                audio = recognizer.record(source)\n",
    "            return recognizer.recognize_google(audio, language=\"pt-BR\")\n",
    "    except sr.UnknownValueError:\n",
    "        return \"Desculpe, não consegui entender o áudio.\"\n",
    "    except sr.RequestError as e:\n",
    "        print(f'Erro na solicitação; verifique a conexão com a internet: {e}')\n",
    "        return \"Erro na solicitação; verifique a conexão com a internet.\"\n",
    "\n",
    "def transcribe_audio(audio_file):\n",
    "    recognizer = sr.Recognizer()\n",
    "    chunks = split_audio(audio_file)\n",
    "    transcription = \"\"\n",
    "    for i, chunk in enumerate(chunks):\n",
    "        print(f'Transcrevendo parte {i + 1}/{len(chunks)}')\n",
    "        transcription += transcribe_audio_chunk(chunk, recognizer) + \" \"\n",
    "    print('Transcrição completa.')\n",
    "    return transcription.strip()\n",
    "\n",
    "def save_transcription_to_file(transcription, file_path):\n",
    "    try:\n",
    "        with open(file_path, 'w', encoding='utf-8') as file:\n",
    "            file.write(transcription)\n",
    "        print(f'Transcrição salva em {file_path}')\n",
    "    except Exception as e:\n",
    "        print(f'Erro ao salvar a transcrição: {e}')\n",
    "\n",
    "def process_video_links(url_list, output_path='.'):\n",
    "    for index, url in enumerate(url_list):\n",
    "        print(f'Processando URL {index + 1}/{len(url_list)}: {url}')\n",
    "        audio_file = os.path.join(output_path, f'audio_{index}.wav')\n",
    "        transcription_file = os.path.join(output_path, f'transcription_{index}.txt')\n",
    "        \n",
    "        # Passos para baixar, extrair áudio e transcrever\n",
    "        download_youtube_video(url, output_path, index)\n",
    "\n",
    "        # Verificar se o arquivo de áudio foi criado\n",
    "        if os.path.exists(audio_file):\n",
    "            transcription = transcribe_audio(audio_file)\n",
    "            # Salvar a transcrição em um arquivo de texto\n",
    "            save_transcription_to_file(transcription, transcription_file)\n",
    "        else:\n",
    "            print(f'O arquivo de áudio {index + 1} não foi encontrado.')\n",
    "\n",
    "# Lista de URLs do YouTube\n",
    "link = ['https://www.youtube.com/watch?v=IO28g9ZBeh4&t=3s']\n",
    "\n",
    "# Caminho para salvar os arquivos\n",
    "output_path = '.'\n",
    "\n",
    "# Processar a lista de vídeos\n",
    "process_video_links(link, output_path)"
   ]
  }
 ],
 "metadata": {
  "kernelspec": {
   "display_name": ".venv",
   "language": "python",
   "name": "python3"
  },
  "language_info": {
   "codemirror_mode": {
    "name": "ipython",
    "version": 3
   },
   "file_extension": ".py",
   "mimetype": "text/x-python",
   "name": "python",
   "nbconvert_exporter": "python",
   "pygments_lexer": "ipython3",
   "version": "3.12.1"
  }
 },
 "nbformat": 4,
 "nbformat_minor": 2
}
